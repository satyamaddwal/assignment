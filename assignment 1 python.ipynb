{
 "cells": [
  {
   "cell_type": "code",
   "execution_count": 2,
   "id": "ae700450-31da-4650-86f1-eb590eebeb49",
   "metadata": {},
   "outputs": [
    {
     "name": "stdout",
     "output_type": "stream",
     "text": [
      "rahul\n",
      "mohan\n",
      "sohan\n",
      "rohan\n"
     ]
    }
   ],
   "source": [
    "# Ques 1. Explain with an example each when to use a for loop and while loop ?\n",
    "\n",
    "# solution.(for loop)\n",
    "'''a for loop is used to iterate over a sequence of items (such as a list, tuple, string or range) and execute a block of \n",
    "statements for each them. it's deal when you the number of iterations in advance.... for example'''\n",
    "\n",
    "names = ['rahul', 'mohan', 'sohan', 'rohan']\n",
    "\n",
    "for name in names:\n",
    "    print(name)"
   ]
  },
  {
   "cell_type": "code",
   "execution_count": 5,
   "id": "7083be44-bd1e-4289-8e98-d489f454d381",
   "metadata": {},
   "outputs": [
    {
     "name": "stdout",
     "output_type": "stream",
     "text": [
      "rahul\n",
      "mohan\n",
      "sohan\n",
      "rohan\n"
     ]
    }
   ],
   "source": [
    "''' While loop :- A while loop repeatedly executes a block of statements as long as a specified condition remains true. it's\n",
    "useful when the number of iteration is unknown or when you need to end the loop based on a condition other than the number of\n",
    "repetitions.'''\n",
    "\n",
    "names = ['rahul', 'mohan', 'sohan', 'rohan']\n",
    "index = 0\n",
    "names_length = len(names)\n",
    "while index < len(names):\n",
    "    print(names[index])\n",
    "    index += 1"
   ]
  },
  {
   "cell_type": "code",
   "execution_count": 9,
   "id": "cf769758-2537-44e2-950c-130989472934",
   "metadata": {},
   "outputs": [
    {
     "data": {
      "text/plain": [
       "55"
      ]
     },
     "execution_count": 9,
     "metadata": {},
     "output_type": "execute_result"
    }
   ],
   "source": [
    "## Question2.  Write a python program to print the sum and product of the first 10 natural numbers using for and while loop ?\n",
    "\n",
    "# Solution:-(sum of first 10 natural numbers)\n",
    "\n",
    "range(11)\n",
    "result = 0\n",
    "for i in range(11):\n",
    "    result = result + i\n",
    "result"
   ]
  },
  {
   "cell_type": "code",
   "execution_count": 13,
   "id": "d2ddcc9e-1309-4056-abb9-c878249aee53",
   "metadata": {},
   "outputs": [
    {
     "data": {
      "text/plain": [
       "3628800"
      ]
     },
     "execution_count": 13,
     "metadata": {},
     "output_type": "execute_result"
    }
   ],
   "source": [
    "# product of first 10 natural number using for loop\n",
    "\n",
    "range(1,11)\n",
    "result = 1\n",
    "for i in range(1, 11):\n",
    "    result = result*i\n",
    "result"
   ]
  },
  {
   "cell_type": "code",
   "execution_count": 14,
   "id": "82c0ebb4-0540-4826-8a81-2f0f03c22d7c",
   "metadata": {},
   "outputs": [
    {
     "data": {
      "text/plain": [
       "55"
      ]
     },
     "execution_count": 14,
     "metadata": {},
     "output_type": "execute_result"
    }
   ],
   "source": [
    "# sum using while loop:\n",
    "starting_num = 0\n",
    "index = 1\n",
    "\n",
    "while index <= 10:\n",
    "    starting_num = starting_num + index\n",
    "    index = index + 1\n",
    "starting_num"
   ]
  },
  {
   "cell_type": "code",
   "execution_count": 15,
   "id": "76df1490-d80a-401b-a261-ba73e9d9b452",
   "metadata": {},
   "outputs": [
    {
     "data": {
      "text/plain": [
       "3628800"
      ]
     },
     "execution_count": 15,
     "metadata": {},
     "output_type": "execute_result"
    }
   ],
   "source": [
    "# product using while loop:\n",
    "\n",
    "starting_num = 1\n",
    "index = 1\n",
    "while index <= 10:\n",
    "    starting_num = starting_num * index\n",
    "    index = index + 1\n",
    "starting_num"
   ]
  },
  {
   "cell_type": "code",
   "execution_count": 2,
   "id": "9a951024-4ed1-42be-b78f-449a40d29939",
   "metadata": {},
   "outputs": [
    {
     "name": "stdin",
     "output_type": "stream",
     "text": [
      "enter the number of units 310\n"
     ]
    },
    {
     "name": "stdout",
     "output_type": "stream",
     "text": [
      "2250.0\n"
     ]
    }
   ],
   "source": [
    "## Question 1. Create a python program to compute the electricity bill for a household.\n",
    "\n",
    "total_unit = int(input('enter the number of units'))\n",
    "if total_unit <= 100:\n",
    "    bill = total_unit*4.5\n",
    "    print(bill)\n",
    "elif total_unit > 100 and total_unit <= 200:\n",
    "    bill = 100*4.5 + (total_unit-100)*6\n",
    "    print(bill)\n",
    "elif total_unit >200 and total_unit <= 300:\n",
    "    bill = 100*4.5 + 100*6 + (total_unit-200)*10\n",
    "    print(bill)\n",
    "else:\n",
    "    bill = 100*4.5 + 100*6 + 100*10 + (total_unit-300)*20\n",
    "    print(bill)"
   ]
  },
  {
   "cell_type": "code",
   "execution_count": 1,
   "id": "e3578d20-b00c-488b-8776-24e3d319adff",
   "metadata": {},
   "outputs": [
    {
     "name": "stdout",
     "output_type": "stream",
     "text": [
      "[8, 64, 125, 216, 512, 1000, 1728, 2744, 3375, 4096, 5832, 8000, 10648, 13824, 15625, 17576, 21952, 27000, 32768, 39304, 42875, 46656, 54872, 64000, 74088, 85184, 91125, 97336, 110592, 125000, 140608, 157464, 166375, 175616, 195112, 216000, 238328, 262144, 274625, 287496, 314432, 343000, 373248, 405224, 421875, 438976, 474552, 512000, 551368, 592704, 614125, 636056, 681472, 729000, 778688, 830584, 857375, 884736, 941192, 1000000]\n",
      "[8, 64, 125, 216, 512, 1000, 1728, 2744, 3375, 4096, 5832, 8000, 10648, 13824, 15625, 17576, 21952, 27000, 32768, 39304, 42875, 46656, 54872, 64000, 74088, 85184, 91125, 97336, 110592, 125000, 140608, 157464, 166375, 175616, 195112, 216000, 238328, 262144, 274625, 287496, 314432, 343000, 373248, 405224, 421875, 438976, 474552, 512000, 551368, 592704, 614125, 636056, 681472, 729000, 778688, 830584, 857375, 884736, 941192, 1000000]\n"
     ]
    }
   ],
   "source": [
    "''' Question 4. Create a list of numbers from 1 to 100. Use for loop and while loop to calculate the cube of each \n",
    "number and if the cube of that number is divisible by 4 or 5 then append that number in a list and print \n",
    "that list.'''\n",
    "\n",
    "# using for loop:\n",
    "l = list(range(1,101))\n",
    "l1 = []\n",
    "for i in l:\n",
    "    j = (i**3)\n",
    "    if j % 4 == 0 or j % 5 == 0:\n",
    "        l1.append(j)\n",
    "print(l1)\n",
    "\n",
    "# using while loop:\n",
    "\n",
    "l1 = []\n",
    "i = 1\n",
    "while i <= 100:\n",
    "    j = (i**3)\n",
    "    if j%4 == 0 or j%5 == 0:\n",
    "        l1.append(j)\n",
    "    i = i+1\n",
    "print(l1)\n",
    "    "
   ]
  },
  {
   "cell_type": "code",
   "execution_count": 1,
   "id": "be1edca4-2d9e-444d-b184-9ec48109c398",
   "metadata": {},
   "outputs": [
    {
     "name": "stdout",
     "output_type": "stream",
     "text": [
      "['I', 'a', 'o', 'e', 'o', 'e', 'a', 'a', 'a', 'i', 'e', 'i']\n"
     ]
    },
    {
     "data": {
      "text/plain": [
       "12"
      ]
     },
     "execution_count": 1,
     "metadata": {},
     "output_type": "execute_result"
    }
   ],
   "source": [
    "''' Question 5.  Write a program to filter count vowels in the below-given string.\n",
    " string = \"I want to become a data scientist\"'''\n",
    "\n",
    "# solution:-\n",
    "\n",
    "string = \"I want to become a data scientist\"\n",
    "vowels = 'aeiouAEIOU'\n",
    "l1 = []\n",
    "for i in string:\n",
    "    if i in vowels:\n",
    "        l1 =l1 + list(i)\n",
    "print(l1)\n",
    "len(l1)\n",
    "        "
   ]
  },
  {
   "cell_type": "code",
   "execution_count": null,
   "id": "f7d619cf-bf38-4b9f-9ca4-7ab8c0577e58",
   "metadata": {},
   "outputs": [],
   "source": []
  }
 ],
 "metadata": {
  "kernelspec": {
   "display_name": "Python 3 (ipykernel)",
   "language": "python",
   "name": "python3"
  },
  "language_info": {
   "codemirror_mode": {
    "name": "ipython",
    "version": 3
   },
   "file_extension": ".py",
   "mimetype": "text/x-python",
   "name": "python",
   "nbconvert_exporter": "python",
   "pygments_lexer": "ipython3",
   "version": "3.10.8"
  }
 },
 "nbformat": 4,
 "nbformat_minor": 5
}
